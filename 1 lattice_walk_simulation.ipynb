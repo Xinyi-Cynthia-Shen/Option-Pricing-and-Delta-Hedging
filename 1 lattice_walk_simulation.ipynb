{
 "cells": [
  {
   "cell_type": "markdown",
   "metadata": {
    "id": "wFUW99WUIQxb"
   },
   "source": [
    "## Lattice Walk Simulation"
   ]
  },
  {
   "cell_type": "markdown",
   "metadata": {
    "id": "T7DAuRy3OybD"
   },
   "source": [
    "Import the packages we need for this question."
   ]
  },
  {
   "cell_type": "code",
   "execution_count": null,
   "metadata": {
    "id": "KdFAODCOImL1"
   },
   "outputs": [],
   "source": [
    "import numpy as np\n",
    "import math\n",
    "import matplotlib.pyplot as plt\n",
    "from scipy.stats import norm"
   ]
  },
  {
   "cell_type": "markdown",
   "metadata": {
    "id": "BLluw6HsPppK"
   },
   "source": [
    "Based on Course Notes Page.15, we generate the code for vectorization and lattice walk."
   ]
  },
  {
   "cell_type": "code",
   "execution_count": null,
   "metadata": {
    "id": "ZeBmNn8ePo23"
   },
   "outputs": [],
   "source": [
    "def walk_sim(N_sim, N, mu, T, sigma, X_init):\n",
    "    # N_sim: number of simulations\n",
    "    # N: number of timesteps\n",
    "    # mu: drift\n",
    "    # T: expiry time\n",
    "    # sigma: volatility\n",
    "    # X_init: initial value\n",
    "\n",
    "    # lattice factors\n",
    "    delt = T/N # timestep size\n",
    "    up = sigma*math.sqrt(delt) # move up\n",
    "    down = - sigma*math.sqrt(delt) # move down\n",
    "    p = 1./2.*(1. + mu/sigma*math.sqrt(delt)) # probability of moving up\n",
    "\n",
    "    # starting at X_0 = X_init\n",
    "    X_new = np.ones(N_sim)*X_init\n",
    "    ptest = np.zeros(N_sim)\n",
    "    \n",
    "    # timestep loop\n",
    "    for i in np.arange(N):\n",
    "        # now for each timestep generate info for all simulations\n",
    "\n",
    "        # a uniformly distributed random number on [0,1] to determine the actual move\n",
    "        ptest = np.random.uniform(0,1,N_sim)\n",
    "        # ptest = 1 if moves up; ptest = 0 if moves down\n",
    "        ptest = (ptest <= p) \n",
    "        # repeat process at the next lattice node until final step X_N\n",
    "        X_new = X_new + ptest*up + (1 - ptest)*down\n",
    "\n",
    "        # end of generation of all data for all simulations for this timestep\n",
    "    return X_new"
   ]
  },
  {
   "cell_type": "markdown",
   "metadata": {
    "id": "VrVZ9g9WRTgM"
   },
   "source": [
    "For the number of simulations equal to 1,000:"
   ]
  },
  {
   "cell_type": "code",
   "execution_count": null,
   "metadata": {
    "colab": {
     "base_uri": "https://localhost:8080/",
     "height": 385
    },
    "id": "9G8kQa1ST1PU",
    "outputId": "2540da90-ef36-4035-e32b-1e0931e2b954"
   },
   "outputs": [
    {
     "name": "stdout",
     "output_type": "stream",
     "text": [
      "Number of simulations: 1000\n",
      "Mean of computed values of X_N: 17.730050133963463\n",
      "Standard deviation of computed values of X_N: 0.38121477135601595\n",
      "Anticipated exact mean: 17.7\n",
      "Anticipated exact standard deviation: 0.3968626966596886\n"
     ]
    },
    {
     "data": {
      "image/png": "[encoded data removed]",
      "text/plain": [
       "<Figure size 432x288 with 1 Axes>"
      ]
     },
     "metadata": {
      "needs_background": "light"
     },
     "output_type": "display_data"
    }
   ],
   "source": [
    "# data to be used in simulations of walks on a lattice\n",
    "T = 1.75\n",
    "sigma = 0.3\n",
    "alpha = 0.4\n",
    "X_init = 17\n",
    "N_sim = 1000\n",
    "print(\"Number of simulations:\", N_sim)\n",
    "N = 300\n",
    "\n",
    "# insert data into the simulation function\n",
    "walk_sim_result = walk_sim(N_sim, N, alpha, T, sigma, X_init)\n",
    "\n",
    "# print out mean and standard deviation of the computed values of X_N\n",
    "mean_cpt = np.mean(walk_sim_result)\n",
    "std_cpt = np.std(walk_sim_result)\n",
    "print(\"Mean of computed values of X_N:\", mean_cpt)\n",
    "print(\"Standard deviation of computed values of X_N:\", std_cpt)\n",
    "\n",
    "# print out anticipated exact mean and standard deviation for comparison\n",
    "mean_ant = X_init + alpha*T\n",
    "std_ant = sigma*math.sqrt(T)\n",
    "print(\"Anticipated exact mean:\", mean_ant)\n",
    "print(\"Anticipated exact standard deviation:\", std_ant)\n",
    "\n",
    "# generate a histogram of the observed probability density versus X(T)\n",
    "delt = T/N\n",
    "up = sigma*math.sqrt(delt)\n",
    "bin_hfw = np.arange(X_init-(N+1)*up, X_init+(N+1)*up, 2*up)\n",
    "plt.hist(walk_sim_result, bin_hfw, density=True)\n",
    "plt.plot(bin_hfw, norm.pdf(bin_hfw, mean_ant, std_ant), \"r\")\n",
    "plt.xlabel(\"$X(T)$\", fontsize=10)\n",
    "plt.ylabel(\"Probability Density\", fontsize=10)\n",
    "plt.title(\"Histogram of the Probability Density versus $X(T)$, with a normal distribution plotted on top\", fontsize=10)\n",
    "plt.show()"
   ]
  },
  {
   "cell_type": "markdown",
   "metadata": {
    "id": "CL3wXV9kcnZ1"
   },
   "source": [
    "For the number of simulations equal to 10,000:"
   ]
  },
  {
   "cell_type": "code",
   "execution_count": null,
   "metadata": {
    "colab": {
     "base_uri": "https://localhost:8080/",
     "height": 385
    },
    "id": "5bWUXqRNbXAQ",
    "outputId": "08c1dda5-7ad5-4caf-fdcc-eaf34893e762"
   },
   "outputs": [
    {
     "name": "stdout",
     "output_type": "stream",
     "text": [
      "Number of simulations: 10000\n",
      "Mean of computed values of X_N: 17.70441520552588\n",
      "Standard deviation of computed values of X_N: 0.39480668462428664\n",
      "Anticipated exact mean: 17.7\n",
      "Anticipated exact standard deviation: 0.3968626966596886\n"
     ]
    },
    {
     "data": {
      "image/png": "[encoded data removed]",
      "text/plain": [
       "<Figure size 432x288 with 1 Axes>"
      ]
     },
     "metadata": {
      "needs_background": "light"
     },
     "output_type": "display_data"
    }
   ],
   "source": [
    "# data to be used in simulations of walks on a lattice\n",
    "T = 1.75\n",
    "sigma = 0.3\n",
    "alpha = 0.4\n",
    "X_init = 17\n",
    "N_sim = 10000\n",
    "print(\"Number of simulations:\", N_sim)\n",
    "N = 300\n",
    "\n",
    "# insert data into the simulation function\n",
    "walk_sim_result = walk_sim(N_sim, N, alpha, T, sigma, X_init)\n",
    "\n",
    "# print out mean and standard deviation of the computed values of X_N\n",
    "mean_cpt = np.mean(walk_sim_result)\n",
    "std_cpt = np.std(walk_sim_result)\n",
    "print(\"Mean of computed values of X_N:\", mean_cpt)\n",
    "print(\"Standard deviation of computed values of X_N:\", std_cpt)\n",
    "\n",
    "# print out anticipated exact mean and standard deviation for comparison\n",
    "mean_ant = X_init + alpha*T\n",
    "std_ant = sigma*math.sqrt(T)\n",
    "print(\"Anticipated exact mean:\", mean_ant)\n",
    "print(\"Anticipated exact standard deviation:\", std_ant)\n",
    "\n",
    "# generate a histogram of the observed probability density versus X(T)\n",
    "delt = T/N\n",
    "up = sigma*math.sqrt(delt)\n",
    "bin_hfw = np.arange(X_init-(N+1)*up, X_init+(N+1)*up, 2*up)\n",
    "plt.hist(walk_sim_result, bin_hfw, density=True)\n",
    "plt.plot(bin_hfw, norm.pdf(bin_hfw, mean_ant, std_ant), \"r\")\n",
    "plt.xlabel(\"$X(T)$\", fontsize=10)\n",
    "plt.ylabel(\"Probability Density\", fontsize=10)\n",
    "plt.title(\"Histogram of the Probability Density versus $X(T)$, with a normal distribution plotted on top\", fontsize=10)\n",
    "plt.show()"
   ]
  },
  {
   "cell_type": "markdown",
   "metadata": {
    "id": "UJ1a9JnND8D4"
   },
   "source": [
    "For the number of simulations equal to 100,000:"
   ]
  },
  {
   "cell_type": "code",
   "execution_count": null,
   "metadata": {
    "colab": {
     "base_uri": "https://localhost:8080/",
     "height": 385
    },
    "id": "YEXreqijdBJN",
    "outputId": "46a7e4aa-889f-4163-9f36-04a5117ef793"
   },
   "outputs": [
    {
     "name": "stdout",
     "output_type": "stream",
     "text": [
      "Number of simulations: 100000\n",
      "Mean of computed values of X_N: 17.700322048915144\n",
      "Standard deviation of computed values of X_N: 0.39454698808048316\n",
      "Anticipated exact mean: 17.7\n",
      "Anticipated exact standard deviation: 0.3968626966596886\n"
     ]
    },
    {
     "data": {
      "image/png": "[encoded data removed]",
      "text/plain": [
       "<Figure size 432x288 with 1 Axes>"
      ]
     },
     "metadata": {
      "needs_background": "light"
     },
     "output_type": "display_data"
    }
   ],
   "source": [
    "# data to be used in simulations of walks on a lattice\n",
    "T = 1.75\n",
    "sigma = 0.3\n",
    "alpha = 0.4\n",
    "X_init = 17\n",
    "N_sim = 100000\n",
    "print(\"Number of simulations:\", N_sim)\n",
    "N = 300\n",
    "\n",
    "# insert data into the simulation function\n",
    "walk_sim_result = walk_sim(N_sim, N, alpha, T, sigma, X_init)\n",
    "\n",
    "# print out mean and standard deviation of the computed values of X_N\n",
    "mean_cpt = np.mean(walk_sim_result)\n",
    "std_cpt = np.std(walk_sim_result)\n",
    "print(\"Mean of computed values of X_N:\", mean_cpt)\n",
    "print(\"Standard deviation of computed values of X_N:\", std_cpt)\n",
    "\n",
    "# print out anticipated exact mean and standard deviation for comparison\n",
    "mean_ant = X_init + alpha*T\n",
    "std_ant = sigma*math.sqrt(T)\n",
    "print(\"Anticipated exact mean:\", mean_ant)\n",
    "print(\"Anticipated exact standard deviation:\", std_ant)\n",
    "\n",
    "# generate a histogram of the observed probability density versus X(T)\n",
    "delt = T/N\n",
    "up = sigma*math.sqrt(delt)\n",
    "bin_hfw = np.arange(X_init-(N+1)*up, X_init+(N+1)*up, 2*up)\n",
    "plt.hist(walk_sim_result, bin_hfw, density=True)\n",
    "plt.plot(bin_hfw, norm.pdf(bin_hfw, mean_ant, std_ant), \"r\")\n",
    "plt.xlabel(\"$X(T)$\", fontsize=10)\n",
    "plt.ylabel(\"Probability Density\", fontsize=10)\n",
    "plt.title(\"Histogram of the Probability Density versus $X(T)$, with a normal distribution plotted on top\", fontsize=10)\n",
    "plt.show()"
   ]
  },
  {
   "cell_type": "markdown",
   "metadata": {
    "id": "Uho1wm6WEfZt"
   },
   "source": [
    "Oberservation:\n",
    "\n",
    "> For plots, as the number of simulation increases ($1,000 \\rightarrow 10,000 \\rightarrow 100,000$), the histogram plots of the observed density versus $X(T)$ fit better in the line plots of the true normal distribution with mean $X_{init} + \\alpha T$ and standard deviation $\\sigma \\sqrt{T}$.\n",
    "\n",
    "> For statistics, as the number of simulation increases ($1,000 \\rightarrow 10,000 \\rightarrow 100,000$), the means and standard deviations of the computed values of $X_N$ from the simulations get closer to the anticipated exact means and standard deviations."
   ]
  }
 ],
 "metadata": {
  "colab": {
   "provenance": []
  },
  "kernelspec": {
   "display_name": "Python 3 (ipykernel)",
   "language": "python",
   "name": "python3"
  },
  "language_info": {
   "codemirror_mode": {
    "name": "ipython",
    "version": 3
   },
   "file_extension": ".py",
   "mimetype": "text/x-python",
   "name": "python",
   "nbconvert_exporter": "python",
   "pygments_lexer": "ipython3",
   "version": "3.9.13"
  }
 },
 "nbformat": 4,
 "nbformat_minor": 1
}
