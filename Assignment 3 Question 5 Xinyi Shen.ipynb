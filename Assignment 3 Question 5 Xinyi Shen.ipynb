{
 "cells": [
  {
   "cell_type": "markdown",
   "metadata": {
    "id": "5Jwkuu_SIr4Z"
   },
   "source": [
    "\\section*{Question 5}"
   ]
  },
  {
   "cell_type": "code",
   "execution_count": 35,
   "metadata": {
    "id": "P-mB3XO9MGOs"
   },
   "outputs": [],
   "source": [
    "import math\n",
    "import numpy as np\n",
    "import pandas as pd"
   ]
  },
  {
   "cell_type": "code",
   "execution_count": 36,
   "metadata": {},
   "outputs": [],
   "source": [
    "# Draw Table\n",
    "def drawtable(xvector, soln):\n",
    "    N = np.size(xvector)\n",
    "    e = np.abs(xvector - soln)\n",
    "    print(\"x\\t\\t\\te\\t\\tratio1\\t\\tratio2\\t\\tratio3\")\n",
    "    print(\"%d: %0.12e\\t%0.7e\" % (1, xvector[0], e[0]))\n",
    "    goldenratio = (1+np.sqrt(5))/2\n",
    "    for i in np.arange(1,N):\n",
    "        print(\"%d: %0.7e\\t%0.7e\\t%0.7e\\t%0.7e\\t%0.7e\"\n",
    "              % (i+1, xvector[i], e[i], e[i] / e[i-1], e[i] / (e[i-1]**goldenratio), e[i] / e[i-1] / e[i-1]))\n",
    "        if(e[i] == 0): break"
   ]
  },
  {
   "cell_type": "code",
   "execution_count": 37,
   "metadata": {
    "colab": {
     "base_uri": "https://localhost:8080/"
    },
    "id": "8hpkYlynIwst",
    "outputId": "3aa42a5f-2d21-493e-9fec-d47160a71620"
   },
   "outputs": [
    {
     "name": "stdout",
     "output_type": "stream",
     "text": [
      "x\t\t\te\t\tratio1\t\tratio2\t\tratio3\n",
      "1: 2.000000000000e+00\t2.6794919e-01\n",
      "2: 1.2500000e+00\t4.8205081e-01\t1.7990381e+00\t4.0599753e+00\t6.7141016e+00\n",
      "3: 1.6250000e+00\t1.0705081e-01\t2.2207370e-01\t3.4862341e-01\t4.6068526e-01\n",
      "4: 1.8125000e+00\t8.0449192e-02\t7.5150477e-01\t2.9900478e+00\t7.0200757e+00\n",
      "5: 1.7187500e+00\t1.3300808e-02\t1.6533177e-01\t7.8483998e-01\t2.0551079e+00\n",
      "6: 1.7656250e+00\t3.3574192e-02\t2.5242221e+00\t3.6444729e+01\t1.8977961e+02\n",
      "7: 1.7421875e+00\t1.0136692e-02\t3.0191917e-01\t2.4596275e+00\t8.9925967e+00\n",
      "8: 1.7304688e+00\t1.5820576e-03\t1.5607237e-01\t2.6653233e+00\t1.5396774e+01\n",
      "9: 1.7363281e+00\t4.2773174e-03\t2.7036421e+00\t1.4552078e+02\t1.7089404e+03\n",
      "10: 1.7333984e+00\t1.3476299e-03\t3.1506428e-01\t9.1709791e+00\t7.3659317e+01\n",
      "11: 1.7319336e+00\t1.1721382e-04\t8.6977750e-02\t5.1692920e+00\t6.4541272e+01\n",
      "12: 1.7326660e+00\t6.1520806e-04\t5.2485966e+00\t1.4110679e+03\t4.4777968e+04\n",
      "13: 1.7322998e+00\t2.4899712e-04\t4.0473644e-01\t3.9054029e+01\t6.5788547e+02\n",
      "14: 1.7321167e+00\t6.5891650e-05\t2.6462816e-01\t4.4659151e+01\t1.0627760e+03\n",
      "15: 1.7320251e+00\t2.5661085e-05\t3.8944365e-01\t1.4946846e+02\t5.9103642e+03\n",
      "16: 1.7320709e+00\t2.0115283e-05\t7.8388280e-01\t5.3885909e+02\t3.0547532e+04\n",
      "17: 1.7320480e+00\t2.7729009e-06\t1.3785046e-01\t1.1015106e+02\t6.8530211e+03\n",
      "18: 1.7320595e+00\t8.6711909e-06\t3.1271189e+00\t8.5035417e+03\t1.1277428e+06\n",
      "19: 1.7320538e+00\t2.9491450e-06\t3.4010842e-01\t4.5714793e+02\t3.9222803e+04\n",
      "20: 1.7320509e+00\t8.8122041e-08\t2.9880539e-02\t7.8217546e+01\t1.0131933e+04\n",
      "21: 1.7320495e+00\t1.3423894e-06\t1.5233299e+01\t3.4911742e+05\t1.7286594e+08\n",
      "22: 1.7320502e+00\t6.2713370e-07\t4.6717717e-01\t1.9890801e+03\t3.4801911e+05\n",
      "23: 1.7320505e+00\t2.6950583e-07\t4.2974222e-01\t2.9285341e+03\t6.8524818e+05\n",
      "24: 1.7320507e+00\t9.0691894e-08\t3.3651181e-01\t3.8648485e+03\t1.2486253e+06\n",
      "25: 1.7320508e+00\t1.2849264e-09\t1.4168040e-02\t3.1898615e+02\t1.5622168e+05\n",
      "26: 1.7320509e+00\t4.3418557e-08\t3.3790696e+01\t1.0563615e+07\t2.6297768e+10\n",
      "27: 1.7320508e+00\t2.1066815e-08\t4.8520303e-01\t1.7222268e+04\t1.1175015e+07\n",
      "28: 1.7320508e+00\t9.8909445e-09\t4.6950354e-01\t2.6056476e+04\t2.2286403e+07\n",
      "29: 1.7320508e+00\t4.3030091e-09\t4.3504531e-01\t3.8525619e+04\t4.3984203e+07\n",
      "30: 1.7320508e+00\t1.5090413e-09\t3.5069444e-01\t5.1944788e+04\t8.1499814e+07\n",
      "31: 1.7320508e+00\t1.1205747e-10\t7.4257392e-02\t2.1018524e+04\t4.9208322e+07\n",
      "32: 1.7320508e+00\t5.8643446e-10\t5.2333364e+00\t7.3886046e+06\t4.6702252e+10\n",
      "33: 1.7320508e+00\t2.3718849e-10\t4.0445865e-01\t2.0531859e+05\t6.8969115e+08\n",
      "34: 1.7320508e+00\t6.2565508e-11\t2.6377970e-01\t2.3429372e+05\t1.1121100e+09\n",
      "35: 1.7320508e+00\t2.4745983e-11\t3.9552117e-01\t8.0053722e+05\t6.3217127e+09\n"
     ]
    }
   ],
   "source": [
    "# Bisection Method\n",
    "def bisection(f, a, b, tol, maxiter):\n",
    "    # This function computes a root of f in the interval [a, b] using the bisection method\n",
    "    i = 1\n",
    "    x = []\n",
    "    while (abs(b-a)>tol) and (i<=maxiter):\n",
    "        i = i+1\n",
    "        c = (a+b)/2\n",
    "        x.append(c)\n",
    "        if f(a)*f(c)<=0:\n",
    "            b = c\n",
    "        else:\n",
    "            a = c\n",
    "    return x\n",
    "\n",
    "# Functions\n",
    "def f(x):\n",
    "    return x**2-3\n",
    "\n",
    "# Parameters\n",
    "a = 0.5\n",
    "b = 3.5\n",
    "tol = 10**(-10)\n",
    "maxiter = 100\n",
    "\n",
    "# Output values\n",
    "x = bisection(f, a, b, tol, maxiter)\n",
    "drawtable(x, np.sqrt(3))"
   ]
  },
  {
   "cell_type": "markdown",
   "metadata": {
    "id": "yEmm1ozHmvv-"
   },
   "source": [
    "Ratio 1 is equal to $0.5$ for all iterations.\n",
    "\n",
    "Therefore, the order of convergence for the Bisection Method is $1$."
   ]
  },
  {
   "cell_type": "code",
   "execution_count": 38,
   "metadata": {
    "colab": {
     "base_uri": "https://localhost:8080/"
    },
    "id": "uB63yOKuTxK0",
    "outputId": "d0c0143b-6104-46f8-bea6-2cd8abd75fc0"
   },
   "outputs": [
    {
     "name": "stdout",
     "output_type": "stream",
     "text": [
      "x\t\t\te\t\tratio1\t\tratio2\t\tratio3\n",
      "1: 1.187500000000e+00\t5.4455081e-01\n",
      "2: 1.5266667e+00\t2.0538414e-01\t3.7716249e-01\t5.4911807e-01\t6.9261213e-01\n",
      "3: 1.7732576e+00\t4.1206791e-02\t2.0063278e-01\t5.3365295e-01\t9.7686599e-01\n",
      "4: 1.7294861e+00\t2.5646714e-03\t6.2239047e-02\t4.4674458e-01\t1.5104075e+00\n",
      "5: 1.7320206e+00\t3.0171171e-05\t1.1764147e-02\t4.6975011e-01\t4.5869996e+00\n",
      "6: 1.7320508e+00\t2.2354179e-08\t7.4091186e-04\t4.6082097e-01\t2.4556947e+01\n",
      "7: 1.7320508e+00\t1.9451107e-13\t8.7013295e-06\t4.6552388e-01\t3.8924846e+02\n",
      "8: 1.7320508e+00\t0.0000000e+00\t0.0000000e+00\t0.0000000e+00\t0.0000000e+00\n"
     ]
    }
   ],
   "source": [
    "# Secant Method\n",
    "def secant(f, a, b, tol, maxiter):\n",
    "    # This function computes a root of f using the secant method with initial guesses x_{-1} = a and x0 = b\n",
    "    i = 1\n",
    "    x = []\n",
    "    while (abs(b-a)>tol) and (i<=maxiter):\n",
    "        i = i+1\n",
    "        if f(b)-f(a) != 0: # avoid divide by zero\n",
    "            c = b - f(b)*((b-a)/(f(b)-f(a)))\n",
    "            x.append(c)\n",
    "            a = b\n",
    "            b = c\n",
    "    return x\n",
    "\n",
    "# Functions\n",
    "def f(x):\n",
    "    return x**2-3\n",
    "\n",
    "# Parameters\n",
    "a = 0.5\n",
    "b = 3.5\n",
    "tol = 10**(-10)\n",
    "maxiter = 100\n",
    "\n",
    "# Output values\n",
    "x = secant(f, a, b, tol, maxiter)\n",
    "drawtable(x, np.sqrt(3))"
   ]
  },
  {
   "cell_type": "markdown",
   "metadata": {
    "id": "ti77t5WIolnL"
   },
   "source": [
    "Ratio 1 becomes smaller and smaller as the number of iteration grows while Ratio 2 becomes larger and larger as the number of iteration grows.\n",
    "\n",
    "Therefore, the order of convergence for the Secant Method is between $1$ and $\\frac{1+\\sqrt{5}}{2}$."
   ]
  },
  {
   "cell_type": "code",
   "execution_count": 39,
   "metadata": {
    "colab": {
     "base_uri": "https://localhost:8080/"
    },
    "id": "Ma4IYlS-fmn1",
    "outputId": "1d6b1fe7-e827-4bb4-dcbd-cf872174ad4b"
   },
   "outputs": [
    {
     "name": "stdout",
     "output_type": "stream",
     "text": [
      "x\t\t\te\t\tratio1\t\tratio2\t\tratio3\n",
      "1: 3.250000000000e+00\t1.5179492e+00\n",
      "2: 2.0865385e+00\t3.5448765e-01\t2.3353064e-01\t1.8043498e-01\t1.5384615e-01\n",
      "3: 1.7621632e+00\t3.0112432e-02\t8.4946350e-02\t1.6125253e-01\t2.3963134e-01\n",
      "4: 1.7323081e+00\t2.5728564e-04\t8.5441665e-03\t7.4448591e-02\t2.8374216e-01\n",
      "5: 1.7320508e+00\t1.9106272e-08\t7.4260935e-05\t1.2281336e-02\t2.8863226e-01\n",
      "6: 1.7320508e+00\t2.2204460e-16\t1.1621556e-08\t6.8510932e-04\t6.0825867e-01\n",
      "7: 1.7320508e+00\t0.0000000e+00\t0.0000000e+00\t0.0000000e+00\t0.0000000e+00\n"
     ]
    }
   ],
   "source": [
    "# Newton's Method\n",
    "def newton(f, fprime, x0, tol, maxiter):\n",
    "    # This function computes a root of f using the Newton's method with initial guess x0\n",
    "    # fprime should be the derivative of f\n",
    "    if fprime(x0) != 0: # avoid divide by zero\n",
    "        i = 1\n",
    "        c = x0 - f(x0)/fprime(x0)\n",
    "        x = [c]\n",
    "        while (abs((c-x0)/x0)>tol) and (i<=maxiter):\n",
    "            x0 = c\n",
    "            if fprime(x0) != 0: # avoid divide by zero\n",
    "                c = x0 - f(x0)/fprime(x0)\n",
    "                i = i+1\n",
    "                x.append(c)\n",
    "        return x\n",
    "\n",
    "# Functions\n",
    "def f(x):\n",
    "    return x**2-3\n",
    "def fprime(x):\n",
    "    return 2*x\n",
    "\n",
    "# Parameters\n",
    "x0 = 0.5\n",
    "tol = 10**(-10)\n",
    "maxiter = 100\n",
    "\n",
    "# Output values\n",
    "x = newton(f, fprime, x0, tol, maxiter)\n",
    "drawtable(x, np.sqrt(3))"
   ]
  },
  {
   "cell_type": "markdown",
   "metadata": {
    "id": "eF-dCU8ypWtu"
   },
   "source": [
    "Ratio 3 is the most stable one and approximately around $0.2$ for most of the iterations.\n",
    "\n",
    "Therefore, the order of convergence for the Newton's Method is approximately $2$."
   ]
  },
  {
   "cell_type": "code",
   "execution_count": 40,
   "metadata": {
    "colab": {
     "base_uri": "https://localhost:8080/"
    },
    "id": "Gy1cLnS8jEJt",
    "outputId": "1fa9ac02-c8b0-4011-e4c2-ea47f5173ac5"
   },
   "outputs": [
    {
     "name": "stdout",
     "output_type": "stream",
     "text": [
      "x\t\t\te\t\tratio1\t\tratio2\t\tratio3\n",
      "1: 1.187500000000e+00\t5.4455081e-01\n",
      "2: 1.5849609e+00\t1.4708987e-01\t2.7011230e-01\t3.9326165e-01\t4.9602772e-01\n",
      "3: 1.7069356e+00\t2.5115163e-02\t1.7074706e-01\t5.5823285e-01\t1.1608350e+00\n",
      "4: 1.7285283e+00\t3.5224867e-03\t1.4025339e-01\t1.3671221e+00\t5.5844107e+00\n",
      "5: 1.7315758e+00\t4.7502572e-04\t1.3485522e-01\t4.4258656e+00\t3.8284095e+01\n",
      "6: 1.7319871e+00\t6.3697791e-05\t1.3409335e-01\t1.5181302e+01\t2.8228651e+02\n",
      "7: 1.7320423e+00\t8.5349002e-06\t1.3399052e-01\t5.2513120e+01\t2.1035348e+03\n",
      "8: 1.7320497e+00\t1.1434780e-06\t1.3397673e-01\t1.8185323e+02\t1.5697516e+04\n",
      "9: 1.7320507e+00\t1.5319733e-07\t1.3397488e-01\t6.2985495e+02\t1.1716437e+05\n",
      "10: 1.7320508e+00\t2.0524556e-08\t1.3397463e-01\t2.1815690e+03\t8.7452328e+05\n",
      "11: 1.7320508e+00\t2.7497693e-09\t1.3397460e-01\t7.5561153e+03\t6.5275273e+06\n",
      "12: 1.7320508e+00\t3.6839909e-10\t1.3397454e-01\t2.6171473e+04\t4.8722103e+07\n",
      "13: 1.7320508e+00\t4.9356075e-11\t1.3397448e-01\t9.0647920e+04\t3.6366669e+08\n",
      "14: 1.7320508e+00\t6.6124883e-12\t1.3397517e-01\t3.1397142e+05\t2.7144615e+09\n"
     ]
    }
   ],
   "source": [
    "# Fixed point iteration\n",
    "def fixedpoint(g, x0, tol, maxiter):\n",
    "    # This function computes a fixed point of g using fixed point iteration with initial guess x0\n",
    "    answer = np.zeros(maxiter+2)\n",
    "    xprev = 0\n",
    "    xcur = x0\n",
    "    i = 0\n",
    "    answer[i] = xcur\n",
    "    while i < maxiter and abs(xcur-xprev) >= tol:\n",
    "        xnext = g(xcur)\n",
    "        xprev = xcur\n",
    "        xcur = xnext\n",
    "        i = i+1\n",
    "        answer[i] = xcur\n",
    "    endval = min(i+1, maxiter+1)\n",
    "    return answer[1:endval]\n",
    "\n",
    "# Functions\n",
    "def g(x):\n",
    "    return x-(x**2-3)/4\n",
    "\n",
    "# Parameters\n",
    "x0 = 0.5\n",
    "tol = 10**(-10)\n",
    "maxiter = 100\n",
    "\n",
    "# Output values\n",
    "x = fixedpoint(g, x0, tol, maxiter)\n",
    "drawtable(x, np.sqrt(3))"
   ]
  },
  {
   "cell_type": "markdown",
   "metadata": {
    "id": "FK6QPewLqmOR"
   },
   "source": [
    "Ratio 1 is the most stable one and approximately around $0.3$ for most of the iterations.\n",
    "\n",
    "Therefore, the order of convergence for the fixed point iteration is approximately $1$."
   ]
  }
 ],
 "metadata": {
  "colab": {
   "provenance": [],
   "toc_visible": true
  },
  "kernelspec": {
   "display_name": "Python 3 (ipykernel)",
   "language": "python",
   "name": "python3"
  },
  "language_info": {
   "codemirror_mode": {
    "name": "ipython",
    "version": 3
   },
   "file_extension": ".py",
   "mimetype": "text/x-python",
   "name": "python",
   "nbconvert_exporter": "python",
   "pygments_lexer": "ipython3",
   "version": "3.9.7"
  }
 },
 "nbformat": 4,
 "nbformat_minor": 1
}
