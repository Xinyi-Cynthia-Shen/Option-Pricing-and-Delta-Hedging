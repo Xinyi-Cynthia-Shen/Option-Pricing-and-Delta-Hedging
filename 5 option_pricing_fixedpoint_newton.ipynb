{
  "nbformat": 4,
  "nbformat_minor": 0,
  "metadata": {
    "colab": {
      "provenance": [],
      "toc_visible": true
    },
    "kernelspec": {
      "name": "python3",
      "display_name": "Python 3"
    },
    "language_info": {
      "name": "python"
    }
  },
  "cells": [
    {
      "cell_type": "markdown",
      "source": [
        "# Option Pricing Fixed Point and Newton Methods"
      ],
      "metadata": {
        "id": "j6XIr8birsyK"
      }
    },
    {
      "cell_type": "code",
      "source": [
        "from scipy.stats import norm\n",
        "import numpy as np\n",
        "import pandas as pd"
      ],
      "metadata": {
        "id": "kyA6Wm1ivcbC"
      },
      "execution_count": 4,
      "outputs": []
    },
    {
      "cell_type": "markdown",
      "source": [
        "## Part (a)"
      ],
      "metadata": {
        "id": "-lGScslduL7y"
      }
    },
    {
      "cell_type": "code",
      "source": [
        "# import blsprice function\n",
        "def blsprice(Price, Strike, Rate, Time, Volatility):\n",
        "    sigma_sqrtT = Volatility * np.sqrt (Time)\n",
        "\n",
        "    d1 = 1 / sigma_sqrtT * (np.log(Price / Strike) + (Rate + Volatility**2 / 2) * Time)\n",
        "    d2 = d1 - sigma_sqrtT\n",
        "\n",
        "    phi1 = norm.cdf(d1)\n",
        "    phi2 = norm.cdf(d2)\n",
        "    disc = np.exp (-Rate * Time)\n",
        "    F    = Price * np.exp ((Rate) * Time)\n",
        "\n",
        "    Call = disc * (F * phi1 - Strike * phi2)\n",
        "    Put  = disc * (Strike * (1 - phi2) + F * (phi1 - 1))\n",
        "    return Call, Put\n",
        "\n",
        "# fixed point iteration scheme\n",
        "def fixedpoint(Price, Strike, Rate, Time, Volatility, N, M):\n",
        "    W = []\n",
        "    R = []\n",
        "\n",
        "    w_k = 0\n",
        "    w_kp1 = N/(M+N)*blsprice(Price+(M/N)*w_k, Strike, Rate, Time, Volatility)[0]\n",
        "    change = w_k - w_kp1\n",
        "    W.append(w_k)\n",
        "    W.append(w_kp1)\n",
        "    R.append(change)\n",
        "\n",
        "    while abs(change)>=10**(-8):\n",
        "        w_k = w_kp1\n",
        "        w_kp1 = N/(M+N)*blsprice(Price+(M/N)*w_k, Strike, Rate, Time, Volatility)[0]\n",
        "        change = w_k - w_kp1\n",
        "        W.append(w_kp1)\n",
        "        R.append(change)\n",
        "    return [W,R]\n",
        "\n",
        "# parameters\n",
        "sigma = 0.3\n",
        "r = 0.04\n",
        "T = 2\n",
        "K = 100\n",
        "S0 = 100\n",
        "N = 30*10**6\n",
        "M = 7*10**6\n",
        "\n",
        "# outputs\n",
        "W = fixedpoint(S0,K,r,T,sigma,N,M)[0]\n",
        "R = fixedpoint(S0,K,r,T,sigma,N,M)[1]\n",
        "\n",
        "# simple text table\n",
        "W = [\"%0.7e\" % member for member in W]\n",
        "R = [\"-\"] + [\"%0.7e\" % member for member in R]\n",
        "table = {\"W^k\":W,\n",
        "         \"R^k\":R}\n",
        "df = pd.DataFrame(table)\n",
        "print(df)"
      ],
      "metadata": {
        "colab": {
          "base_uri": "https://localhost:8080/"
        },
        "id": "V_-lbc0euPep",
        "outputId": "4e66f894-6f31-4332-f621-135a1a96f015"
      },
      "execution_count": 29,
      "outputs": [
        {
          "output_type": "stream",
          "name": "stdout",
          "text": [
            "              W^k             R^k\n",
            "0   0.0000000e+00               -\n",
            "1   1.6443118e+01  -1.6443118e+01\n",
            "2   1.8533340e+01  -2.0902218e+00\n",
            "3   1.8806075e+01  -2.7273429e-01\n",
            "4   1.8841775e+01  -3.5700105e-02\n",
            "5   1.8846450e+01  -4.6749682e-03\n",
            "6   1.8847062e+01  -6.1222533e-04\n",
            "7   1.8847142e+01  -8.0176482e-05\n",
            "8   1.8847153e+01  -1.0499850e-05\n",
            "9   1.8847154e+01  -1.3750525e-06\n",
            "10  1.8847154e+01  -1.8007582e-07\n",
            "11  1.8847154e+01  -2.3582597e-08\n",
            "12  1.8847154e+01  -3.0883598e-09\n"
          ]
        }
      ]
    },
    {
      "cell_type": "markdown",
      "source": [
        "## Part (b)"
      ],
      "metadata": {
        "id": "NhOtCAzPuYPq"
      }
    },
    {
      "cell_type": "code",
      "source": [
        "# import blsdelta\n",
        "def blsdelta(Price, Strike, Rate, Time, Volatility):\n",
        "    d1 = 1 / (Volatility * np.sqrt(Time)) * (np.log (Price / Strike) + (Rate + Volatility**2 / 2) * Time)\n",
        "\n",
        "    phi = norm.cdf(d1)\n",
        "\n",
        "    CallDelta = phi\n",
        "    PutDelta = phi - 1\n",
        "    return CallDelta, PutDelta\n",
        "\n",
        "# Newton's Method\n",
        "def newton(Price, Strike, Rate, Time, Volatility, N, M):\n",
        "    W = []\n",
        "    R = []\n",
        "    \n",
        "    w_k = 0\n",
        "    f = w_k - (N/(N+M))*blsprice(Price+(M/N)*w_k,Strike,Rate,Time,Volatility)[0]\n",
        "    fprime = 1 - M/(N+M)*blsdelta(Price+(M/N)*w_k,Strike,Rate,Time,Volatility)[0]\n",
        "    w_kp1 = w_k - (f/fprime)\n",
        "    change = w_k - w_kp1\n",
        "\n",
        "    W.append(w_k)\n",
        "    W.append(w_kp1)\n",
        "    R.append(change)\n",
        "\n",
        "    while abs(change)>=10**(-8):\n",
        "        w_k = w_kp1\n",
        "        f = w_k - (N/(N+M))*blsprice(Price+(M/N)*w_k,Strike,Rate,Time,Volatility)[0]\n",
        "        fprime = 1 - M/(N+M)*blsdelta(Price+(M/N)*w_k,Strike,Rate,Time,Volatility)[0]\n",
        "        w_kp1 = w_k - (f/fprime)\n",
        "        change = w_k - w_kp1\n",
        "\n",
        "        W.append(w_kp1)\n",
        "        R.append(change)\n",
        "    return [W,R]\n",
        "\n",
        "# parameters\n",
        "sigma = 0.3\n",
        "r = 0.04\n",
        "T = 2\n",
        "K = 100\n",
        "S0 = 100\n",
        "N = 30*10**6\n",
        "M = 7*10**6\n",
        "\n",
        "# outputs\n",
        "W = newton(S0,K,r,T,sigma,N,M)[0]\n",
        "R = newton(S0,K,r,T,sigma,N,M)[1]\n",
        "\n",
        "# simple text table\n",
        "W = [\"%0.7e\" % member for member in W]\n",
        "R = [\"-\"] + [\"%0.7e\" % member for member in R]\n",
        "table = {\"W^k\":W,\n",
        "         \"R^k\":R}\n",
        "df = pd.DataFrame(table)\n",
        "print(df)"
      ],
      "metadata": {
        "colab": {
          "base_uri": "https://localhost:8080/"
        },
        "id": "3P_II9HuuX6C",
        "outputId": "7cf0f46b-431e-461c-e2b8-da7d64e8d36c"
      },
      "execution_count": 32,
      "outputs": [
        {
          "output_type": "stream",
          "name": "stdout",
          "text": [
            "             W^k             R^k\n",
            "0  0.0000000e+00               -\n",
            "1  1.8771691e+01  -1.8771691e+01\n",
            "2  1.8847153e+01  -7.5461665e-02\n",
            "3  1.8847154e+01  -1.1486674e-06\n",
            "4  1.8847154e+01   7.1054274e-15\n"
          ]
        }
      ]
    }
  ]
}
