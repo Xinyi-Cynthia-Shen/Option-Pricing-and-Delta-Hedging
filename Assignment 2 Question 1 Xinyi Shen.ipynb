{
 "cells": [
  {
   "cell_type": "markdown",
   "metadata": {
    "id": "u-q_OSJmrP9H"
   },
   "source": [
    "# Question 1"
   ]
  },
  {
   "cell_type": "markdown",
   "metadata": {
    "id": "8MCQBXFgugk5"
   },
   "source": [
    "Import the packages we need for this question."
   ]
  },
  {
   "cell_type": "code",
   "execution_count": 14,
   "metadata": {
    "id": "FEx1ZNeOq8ia"
   },
   "outputs": [
    {
     "name": "stdout",
     "output_type": "stream",
     "text": [
      "Requirement already satisfied: tabulate in /opt/conda/lib/python3.9/site-packages (0.9.0)\n",
      "Note: you may need to restart the kernel to use updated packages.\n"
     ]
    }
   ],
   "source": [
    "import numpy as np\n",
    "from scipy.stats import norm\n",
    "%pip install tabulate\n",
    "from tabulate import tabulate\n"
   ]
  },
  {
   "cell_type": "markdown",
   "metadata": {
    "id": "DiTiPP2Euq4Z"
   },
   "source": [
    "Based on Course Notes Section 3.5, we generate the vectorized code for pricing European/American options of both put and call types using a binomial lattice."
   ]
  },
  {
   "cell_type": "code",
   "execution_count": 15,
   "metadata": {
    "id": "YfaMkDZ-vHRD"
   },
   "outputs": [],
   "source": [
    "def option_value(S0, K, T, r, sigma, CorP, EorA, Nsteps):\n",
    "    # S0: current stock price\n",
    "    # K: strike\n",
    "    # T: expiry time\n",
    "    # r: interest rate\n",
    "    # sigma: volatility\n",
    "    # CorP: True for a call option, False for put option\n",
    "    # EorA: True for a European option, False for an American option\n",
    "    # Nsteps: number of timesteps\n",
    "\n",
    "    # timestep size\n",
    "    delt = T/Nsteps\n",
    "\n",
    "    # tree parameters\n",
    "    u = np.exp(sigma * np.sqrt(delt))\n",
    "    d = 1./u\n",
    "    a = np.exp(r*delt)\n",
    "    p = (a-d)/(u-d)\n",
    "    \n",
    "    # payoff at t=T\n",
    "    W = S0*d**np.arange(Nsteps,-1,-1)*u**np.arange(0,Nsteps+1,1) # W is column vector of size Nsteps+1 × 1\n",
    "    if CorP == True:\n",
    "        W = np.maximum(W - K, 0)\n",
    "    else:\n",
    "        W = np.maximum(K - W, 0)\n",
    "    \n",
    "    # European backward recursion\n",
    "    if EorA == True:\n",
    "        for i in np.arange(Nsteps,0,-1):\n",
    "            W = np.exp(-r*delt)*(p*W[1:i+1]+(1-p)*W[0:i])\n",
    "        return W[0]\n",
    "    \n",
    "    # American backward recursion\n",
    "    else:\n",
    "        for i in np.arange(Nsteps,0,-1):\n",
    "            \n",
    "            # payoff at t=T\n",
    "            W1 = S0*d**np.arange(i-1,-1,-1)*u**np.arange(0,i,1)\n",
    "            if CorP == True:\n",
    "                W1 = np.maximum(W1 - K, 0)\n",
    "            else:\n",
    "                W1 = np.maximum(K - W1, 0)\n",
    "            \n",
    "            W = np.maximum(np.exp(-r*delt)*(p*W[1:i+1]+(1-p)*W[0:i]),W1)\n",
    "        return W[0]"
   ]
  },
  {
   "cell_type": "markdown",
   "metadata": {
    "id": "VdWWNzKBBhl5"
   },
   "source": [
    "Use the function `blsprice` provided with the assignment to generate the exact analytical solution values."
   ]
  },
  {
   "cell_type": "code",
   "execution_count": 16,
   "metadata": {
    "id": "PPtuL2EY_seM"
   },
   "outputs": [],
   "source": [
    "def blsprice(Price, Strike, Rate, Time, Volatility):\n",
    "    sigma_sqrtT = Volatility * np.sqrt (Time)\n",
    "\n",
    "    d1 = 1 / sigma_sqrtT * (np.log(Price / Strike) + (Rate + Volatility**2 / 2) * Time)\n",
    "    d2 = d1 - sigma_sqrtT\n",
    "\n",
    "    phi1 = norm.cdf(d1)\n",
    "    phi2 = norm.cdf(d2)\n",
    "    disc = np.exp (-Rate * Time)\n",
    "    F    = Price * np.exp ((Rate) * Time)\n",
    "\n",
    "    Call = disc * (F * phi1 - Strike * phi2)\n",
    "    Put  = disc * (Strike * (1 - phi2) + F * (phi1 - 1))\n",
    "    return Call, Put"
   ]
  },
  {
   "cell_type": "code",
   "execution_count": 17,
   "metadata": {
    "colab": {
     "base_uri": "https://localhost:8080/"
    },
    "id": "HS9I4e-Y8SbG",
    "outputId": "e650a77f-8a10-4eea-e243-bec9878a28a1"
   },
   "outputs": [
    {
     "name": "stdout",
     "output_type": "stream",
     "text": [
      "+-------------+--------------+------------------------+--------------------+\n",
      "| Timestep    |   Tree Value | Change                 | Ratio              |\n",
      "+=============+==============+========================+====================+\n",
      "| T/500       |      14.5133 |                        |                    |\n",
      "+-------------+--------------+------------------------+--------------------+\n",
      "| T/1000      |      14.5165 | 0.0031373723798235886  |                    |\n",
      "+-------------+--------------+------------------------+--------------------+\n",
      "| T/2000      |      14.518  | 0.0015689815869617263  | 1.999623453771049  |\n",
      "+-------------+--------------+------------------------+--------------------+\n",
      "| T/4000      |      14.5188 | 0.000784564475704741   | 1.9998121703794665 |\n",
      "+-------------+--------------+------------------------+--------------------+\n",
      "| T/8000      |      14.5192 | 0.00039230067854845174 | 1.9999059869274278 |\n",
      "+-------------+--------------+------------------------+--------------------+\n",
      "| Exact Value |      14.5196 |                        |                    |\n",
      "+-------------+--------------+------------------------+--------------------+\n"
     ]
    }
   ],
   "source": [
    "sigma = 0.32\n",
    "r = 0.04\n",
    "T = 1\n",
    "K = 100\n",
    "S0 = 100\n",
    "\n",
    "# European Call Option\n",
    "CorP = True\n",
    "EorA = True\n",
    "\n",
    "Vtree1 = option_value(S0, K, T, r, sigma, CorP, EorA, 500)\n",
    "Vtree2 = option_value(S0, K, T, r, sigma, CorP, EorA, 1000)\n",
    "Vtree3 = option_value(S0, K, T, r, sigma, CorP, EorA, 2000)\n",
    "Vtree4 = option_value(S0, K, T, r, sigma, CorP, EorA, 4000)\n",
    "Vtree5 = option_value(S0, K, T, r, sigma, CorP, EorA, 8000)\n",
    "\n",
    "Change1 = Vtree2 - Vtree1\n",
    "Change2 = Vtree3 - Vtree2\n",
    "Change3 = Vtree4 - Vtree3\n",
    "Change4 = Vtree5 - Vtree4\n",
    "\n",
    "Ratio1 = Change1/Change2\n",
    "Ratio2 = Change2/Change3\n",
    "Ratio3 = Change3/Change4\n",
    "\n",
    "if CorP == True:\n",
    "    Vexact = blsprice(S0,K,r,T,sigma)[0]\n",
    "else:\n",
    "    Vexact = blsprice(S0,K,r,T,sigma)[1]\n",
    "\n",
    "table = {\"Timestep\": [\"T/500\",\"T/1000\",\"T/2000\",\"T/4000\",\"T/8000\",\"Exact Value\"],\n",
    "         \"Tree Value\": [Vtree1,Vtree2,Vtree3,Vtree4,Vtree5,Vexact],\n",
    "         \"Change\": [\"\",Change1,Change2,Change3,Change4],\n",
    "         \"Ratio\": [\"\",\"\",Ratio1,Ratio2,Ratio3]}\n",
    "\n",
    "print(tabulate(table,headers=\"keys\",tablefmt=\"grid\"))"
   ]
  },
  {
   "cell_type": "code",
   "execution_count": 18,
   "metadata": {
    "colab": {
     "base_uri": "https://localhost:8080/"
    },
    "id": "MrVL5DwZYXDP",
    "outputId": "648b9b61-0120-40a0-83fc-0eb5129e696e"
   },
   "outputs": [
    {
     "name": "stdout",
     "output_type": "stream",
     "text": [
      "+-------------+--------------+-----------------------+--------------------+\n",
      "| Timestep    |   Tree Value | Change                | Ratio              |\n",
      "+=============+==============+=======================+====================+\n",
      "| T/500       |      10.5923 |                       |                    |\n",
      "+-------------+--------------+-----------------------+--------------------+\n",
      "| T/1000      |      10.5954 | 0.0031373723728744807 |                    |\n",
      "+-------------+--------------+-----------------------+--------------------+\n",
      "| T/2000      |      10.597  | 0.0015689816114807797 | 1.9996234180931405 |\n",
      "+-------------+--------------+-----------------------+--------------------+\n",
      "| T/4000      |      10.5978 | 0.0007845644998543122 | 1.999812140075326  |\n",
      "+-------------+--------------+-----------------------+--------------------+\n",
      "| T/8000      |      10.5981 | 0.0003923006295085685 | 1.9999062984862634 |\n",
      "+-------------+--------------+-----------------------+--------------------+\n",
      "| Exact Value |      10.5985 |                       |                    |\n",
      "+-------------+--------------+-----------------------+--------------------+\n"
     ]
    }
   ],
   "source": [
    "# European Put Option\n",
    "CorP = False\n",
    "EorA = True\n",
    "\n",
    "Vtree1 = option_value(S0, K, T, r, sigma, CorP, EorA, 500)\n",
    "Vtree2 = option_value(S0, K, T, r, sigma, CorP, EorA, 1000)\n",
    "Vtree3 = option_value(S0, K, T, r, sigma, CorP, EorA, 2000)\n",
    "Vtree4 = option_value(S0, K, T, r, sigma, CorP, EorA, 4000)\n",
    "Vtree5 = option_value(S0, K, T, r, sigma, CorP, EorA, 8000)\n",
    "\n",
    "Change1 = Vtree2 - Vtree1\n",
    "Change2 = Vtree3 - Vtree2\n",
    "Change3 = Vtree4 - Vtree3\n",
    "Change4 = Vtree5 - Vtree4\n",
    "\n",
    "Ratio1 = Change1/Change2\n",
    "Ratio2 = Change2/Change3\n",
    "Ratio3 = Change3/Change4\n",
    "\n",
    "if CorP == True:\n",
    "    Vexact = blsprice(S0,K,r,T,sigma)[0]\n",
    "else:\n",
    "    Vexact = blsprice(S0,K,r,T,sigma)[1]\n",
    "\n",
    "table = {\"Timestep\": [\"T/500\",\"T/1000\",\"T/2000\",\"T/4000\",\"T/8000\",\"Exact Value\"],\n",
    "         \"Tree Value\": [Vtree1,Vtree2,Vtree3,Vtree4,Vtree5,Vexact],\n",
    "         \"Change\": [\"\",Change1,Change2,Change3,Change4],\n",
    "         \"Ratio\": [\"\",\"\",Ratio1,Ratio2,Ratio3]}\n",
    "\n",
    "print(tabulate(table,headers=\"keys\",tablefmt=\"grid\"))"
   ]
  },
  {
   "cell_type": "markdown",
   "metadata": {
    "id": "KAXJQox0k0oS"
   },
   "source": [
    "The tree values for both European call and put options converge to the exact value."
   ]
  },
  {
   "cell_type": "markdown",
   "metadata": {
    "id": "zBQKgKNIf1LQ"
   },
   "source": [
    "By hand calculation and substituting $V_{\\Delta t}^{tree}(S,t)=V^{exact}(S,t)+C(S,t)\\Delta t+O((\\Delta t)^2)$ into the formula, we estimate that\n",
    "\n",
    "$$\n",
    "\\lim_{\\Delta t \\to 0} \\frac{V_{\\frac{\\Delta t}{2}}^{tree}(S_0^0,0)-V_{\\Delta t}^{tree}(S_0^0,0)}{V_{\\frac{\\Delta t}{4}}^{tree}(S_0^0,0)-V_{\\frac{\\Delta t}{2}}^{tree}(S_0^0,0)}\n",
    "= \\lim_{\\Delta t \\to 0} \\frac{C(S,t)\\frac{\\Delta t}{2}-C(S,t)\\Delta t}{C(S,t)\\frac{\\Delta t}{4}-C(S,t)\\frac{\\Delta t}{2}} = 2\n",
    "$$"
   ]
  },
  {
   "cell_type": "markdown",
   "metadata": {
    "id": "apxqSdX1iwO_"
   },
   "source": [
    "The convergence data generated indicates that the lattice method is likely exhibiting a first order of accuracy because the ratios for European call and put options both converge to $2$, which agrees with the theory above."
   ]
  },
  {
   "cell_type": "code",
   "execution_count": 19,
   "metadata": {
    "colab": {
     "base_uri": "https://localhost:8080/"
    },
    "id": "UmIU_jYwZSiz",
    "outputId": "b85c1f1d-9e7e-4097-f144-cf14235defd9"
   },
   "outputs": [
    {
     "name": "stdout",
     "output_type": "stream",
     "text": [
      "+------------+--------------+------------------------+--------------------+\n",
      "| Timestep   |   Tree Value | Change                 | Ratio              |\n",
      "+============+==============+========================+====================+\n",
      "| T/500      |      10.9918 |                        |                    |\n",
      "+------------+--------------+------------------------+--------------------+\n",
      "| T/1000     |      10.9935 | 0.00163496045544953    |                    |\n",
      "+------------+--------------+------------------------+--------------------+\n",
      "| T/2000     |      10.9943 | 0.0008220116075037254  | 1.988974900749343  |\n",
      "+------------+--------------+------------------------+--------------------+\n",
      "| T/4000     |      10.9947 | 0.0004041705718158539  | 2.0338235013266774 |\n",
      "+------------+--------------+------------------------+--------------------+\n",
      "| T/8000     |      10.9949 | 0.00020238367639890953 | 1.9970512395437028 |\n",
      "+------------+--------------+------------------------+--------------------+\n"
     ]
    }
   ],
   "source": [
    "# American Put Option\n",
    "CorP = False\n",
    "EorA = False\n",
    "\n",
    "Vtree1 = option_value(S0, K, T, r, sigma, CorP, EorA, 500)\n",
    "Vtree2 = option_value(S0, K, T, r, sigma, CorP, EorA, 1000)\n",
    "Vtree3 = option_value(S0, K, T, r, sigma, CorP, EorA, 2000)\n",
    "Vtree4 = option_value(S0, K, T, r, sigma, CorP, EorA, 4000)\n",
    "Vtree5 = option_value(S0, K, T, r, sigma, CorP, EorA, 8000)\n",
    "\n",
    "Change1 = Vtree2 - Vtree1\n",
    "Change2 = Vtree3 - Vtree2\n",
    "Change3 = Vtree4 - Vtree3\n",
    "Change4 = Vtree5 - Vtree4\n",
    "\n",
    "Ratio1 = Change1/Change2\n",
    "Ratio2 = Change2/Change3\n",
    "Ratio3 = Change3/Change4\n",
    "\n",
    "table = {\"Timestep\": [\"T/500\",\"T/1000\",\"T/2000\",\"T/4000\",\"T/8000\"],\n",
    "         \"Tree Value\": [Vtree1,Vtree2,Vtree3,Vtree4,Vtree5],\n",
    "         \"Change\": [\"\",Change1,Change2,Change3,Change4],\n",
    "         \"Ratio\": [\"\",\"\",Ratio1,Ratio2,Ratio3]}\n",
    "\n",
    "print(tabulate(table,headers=\"keys\",tablefmt=\"grid\"))"
   ]
  },
  {
   "cell_type": "markdown",
   "metadata": {
    "id": "K-2tLWX8mDgV"
   },
   "source": [
    "The tree values for American put options also converge to a specific value, but the ratios fluctuate around $2$ due to the early exercising property of the American put option."
   ]
  }
 ],
 "metadata": {
  "colab": {
   "provenance": [],
   "toc_visible": true
  },
  "kernelspec": {
   "display_name": "Python 3 (ipykernel)",
   "language": "python",
   "name": "python3"
  },
  "language_info": {
   "codemirror_mode": {
    "name": "ipython",
    "version": 3
   },
   "file_extension": ".py",
   "mimetype": "text/x-python",
   "name": "python",
   "nbconvert_exporter": "python",
   "pygments_lexer": "ipython3",
   "version": "3.9.7"
  }
 },
 "nbformat": 4,
 "nbformat_minor": 1
}
