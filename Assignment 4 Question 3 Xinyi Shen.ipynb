{
 "cells": [
  {
   "cell_type": "markdown",
   "metadata": {
    "id": "RF62v7iGy9U7"
   },
   "source": [
    "# Question 3"
   ]
  },
  {
   "cell_type": "markdown",
   "metadata": {
    "id": "HrfXdVvBy_YJ"
   },
   "source": [
    "Import the packages and parameters we need for this question."
   ]
  },
  {
   "cell_type": "code",
   "execution_count": 1,
   "metadata": {
    "colab": {
     "base_uri": "https://localhost:8080/"
    },
    "id": "LIwiYFCxyN3l",
    "outputId": "3bcb6517-c748-45e9-8f0e-c15ff35f7c32"
   },
   "outputs": [
    {
     "name": "stdout",
     "output_type": "stream",
     "text": [
      "Requirement already satisfied: tabulate in /opt/conda/lib/python3.9/site-packages (0.9.0)\n",
      "Note: you may need to restart the kernel to use updated packages.\n"
     ]
    }
   ],
   "source": [
    "import math\n",
    "import numpy as np\n",
    "import matplotlib.pyplot as plt\n",
    "from scipy.stats import norm\n",
    "%pip install tabulate\n",
    "from tabulate import tabulate"
   ]
  },
  {
   "cell_type": "code",
   "execution_count": 2,
   "metadata": {
    "id": "vjOXf9Ml0Luv"
   },
   "outputs": [],
   "source": [
    "T = 2           # Investment horizon\n",
    "sigma = 0.32    # Volatility\n",
    "mu = 0.12       # Real world drift\n",
    "P0 = 100        # Initial wealth\n",
    "r = 0.06        # Risk-free rate\n",
    "delt = 1/250    # Rebalancing interval\n",
    "B0 = 100        # Initial cash\n",
    "alpha0 = 0      # Initial risky asset position\n",
    "S0 = 100        # Initial risky asset price\n",
    "Nsim = 80000    # Number of simulations"
   ]
  },
  {
   "cell_type": "markdown",
   "metadata": {
    "id": "pOsvInLo1UEb"
   },
   "source": [
    "Write the CPPI simulation function under the assumption of GBM."
   ]
  },
  {
   "cell_type": "code",
   "execution_count": 3,
   "metadata": {
    "id": "GNB9cjhR2edl"
   },
   "outputs": [],
   "source": [
    "def CPPI_sim(F, M):\n",
    "    # F is floors\n",
    "    # M is multipliers\n",
    "    N = T/delt\n",
    "\n",
    "    # Vectorized initial values\n",
    "    B = B0*np.ones(Nsim)\n",
    "    S = S0*np.ones(Nsim)\n",
    "    alpha = alpha0*np.ones(Nsim)\n",
    "    Pi = P0*np.ones(Nsim)\n",
    "\n",
    "    i = 1\n",
    "    while i <= N:\n",
    "        phi = np.random.normal(0, 1, Nsim)\n",
    "        S = S*np.exp((mu-sigma**2/2)*delt + sigma*phi*math.sqrt(delt))\n",
    "        alpha_pre = alpha\n",
    "        alpha = M*np.maximum(0, B*np.exp(r*delt) + alpha*S - F)/S\n",
    "        B = B*np.exp(r*delt) - (alpha - alpha_pre)*S\n",
    "        Pi = B + alpha_pre*S\n",
    "        i = i + 1\n",
    "    \n",
    "    R = np.log(Pi/P0)\n",
    "    R_mean = np.mean(R)\n",
    "    R_std = np.std(R)\n",
    "    R_VAR = np.quantile(R, 0.05) # np.quantile already sorts the data\n",
    "    R_cVAR = R[R<=R_VAR].mean()\n",
    "\n",
    "    return R, R_mean, R_std, R_VAR, R_cVAR\n",
    "\n",
    "# Investment performances\n",
    "R1 = CPPI_sim(0,1)\n",
    "R2 = CPPI_sim(0,0.5)\n",
    "R3 = CPPI_sim(0,2)\n",
    "R4 = CPPI_sim(85,2)\n",
    "R5 = CPPI_sim(85,4)"
   ]
  },
  {
   "cell_type": "markdown",
   "metadata": {
    "id": "-T5BgETcDEpr"
   },
   "source": [
    "Generate a table containing $F$, $M$, and the mean, standard deviation, $95\\%$ $VAR$, and $95\\%$ $cVAR$ of $R$."
   ]
  },
  {
   "cell_type": "code",
   "execution_count": 4,
   "metadata": {
    "colab": {
     "base_uri": "https://localhost:8080/"
    },
    "id": "WwT-hh1WDk2F",
    "outputId": "3272e971-3252-4db2-f63c-ea20966e1363",
    "scrolled": true
   },
   "outputs": [
    {
     "name": "stdout",
     "output_type": "stream",
     "text": [
      "+-----+-----+------------+----------------------+------------+------------+\n",
      "|   F |   M |       Mean |   Standard Deviation |    95% VAR |   95% cVAR |\n",
      "+=====+=====+============+======================+============+============+\n",
      "|   0 | 1   |  0.135813  |             0.451934 | -0.611573  |  -0.799153 |\n",
      "+-----+-----+------------+----------------------+------------+------------+\n",
      "|   0 | 0.5 |  0.153393  |             0.226025 | -0.216967  |  -0.312643 |\n",
      "+-----+-----+------------+----------------------+------------+------------+\n",
      "|   0 | 2   | -0.0458006 |             0.905069 | -1.54095   |  -1.91915  |\n",
      "+-----+-----+------------+----------------------+------------+------------+\n",
      "|  85 | 2   |  0.147461  |             0.204083 | -0.0688154 |  -0.086607 |\n",
      "+-----+-----+------------+----------------------+------------+------------+\n",
      "|  85 | 4   |  0.114528  |             0.369009 | -0.13392   |  -0.140985 |\n",
      "+-----+-----+------------+----------------------+------------+------------+\n"
     ]
    }
   ],
   "source": [
    "# Data for the table\n",
    "F = [0, 0, 0, 85, 85]\n",
    "M = [1, 0.5, 2, 2, 4]\n",
    "mean = [R1[1], R2[1], R3[1], R4[1], R5[1]]\n",
    "std = [R1[2], R2[2], R3[2], R4[2], R5[2]]\n",
    "VAR = [R1[3], R2[3], R3[3], R4[3], R5[3]]\n",
    "cVAR = [R1[4], R2[4], R3[4], R4[4], R5[4]]\n",
    "\n",
    "# Table for F, M, mean, std, VAR, and cVAR\n",
    "table = {\"F\": F,\n",
    "         \"M\": M,\n",
    "         \"Mean\": mean,\n",
    "         \"Standard Deviation\": std,\n",
    "         \"95% VAR\": VAR,\n",
    "         \"95% cVAR\": cVAR}\n",
    "print(tabulate(table, headers=\"keys\", tablefmt=\"grid\"))"
   ]
  },
  {
   "cell_type": "markdown",
   "metadata": {
    "id": "ATxWML5n-IlZ"
   },
   "source": [
    "Generate a plot of the (approximate) probability density function of $R$ for each of the parameter pairs: $(F,M)=(0,1),(0,0.5),(0,2),(85,2),(85,4)$."
   ]
  },
  {
   "cell_type": "code",
   "execution_count": 5,
   "metadata": {
    "colab": {
     "base_uri": "https://localhost:8080/",
     "height": 1000
    },
    "id": "6MYoaU9N-d8D",
    "outputId": "05270709-5d06-4bd4-8233-2f345fc65dca"
   },
   "outputs": [
    {
     "data": {
      "image/png": "[encoded data removed]",
      "text/plain": [
       "<Figure size 432x288 with 1 Axes>"
      ]
     },
     "metadata": {
      "needs_background": "light"
     },
     "output_type": "display_data"
    },
    {
     "data": {
      "image/png": "[encoded data removed]",
      "text/plain": [
       "<Figure size 432x288 with 1 Axes>"
      ]
     },
     "metadata": {
      "needs_background": "light"
     },
     "output_type": "display_data"
    },
    {
     "data": {
      "image/png": "[encoded data removed]",
      "text/plain": [
       "<Figure size 432x288 with 1 Axes>"
      ]
     },
     "metadata": {
      "needs_background": "light"
     },
     "output_type": "display_data"
    },
    {
     "data": {
      "image/png": "[encoded data removed]",
      "text/plain": [
       "<Figure size 432x288 with 1 Axes>"
      ]
     },
     "metadata": {
      "needs_background": "light"
     },
     "output_type": "display_data"
    },
    {
     "data": {
      "image/png": "[encoded data removed]",
      "text/plain": [
       "<Figure size 432x288 with 1 Axes>"
      ]
     },
     "metadata": {
      "needs_background": "light"
     },
     "output_type": "display_data"
    }
   ],
   "source": [
    "# Plots of probability density functions\n",
    "plt.rcParams['figure.figsize'] = [6, 4]\n",
    "plt.hist(R1[0], bins = 200, density = True)\n",
    "plt.title(\"$F = 0, M = 1$\", fontsize = 10)\n",
    "plt.xlabel(\"Investment Performance\", fontsize = 10)\n",
    "plt.ylabel(\"Probability Density\", fontsize = 10)\n",
    "plt.show()\n",
    "plt.rcParams['figure.figsize'] = [6, 4]\n",
    "plt.hist(R2[0], bins = 200, density = True)\n",
    "plt.title(\"$F = 0, M = 0.5$\", fontsize = 10)\n",
    "plt.xlabel(\"Investment Performance\", fontsize = 10)\n",
    "plt.ylabel(\"Probability Density\", fontsize = 10)\n",
    "plt.show()\n",
    "plt.rcParams['figure.figsize'] = [6, 4]\n",
    "plt.hist(R3[0], bins = 200, density = True)\n",
    "plt.title(\"$F = 0, M = 2$\", fontsize = 10)\n",
    "plt.xlabel(\"Investment Performance\", fontsize = 10)\n",
    "plt.ylabel(\"Probability Density\", fontsize = 10)\n",
    "plt.show()\n",
    "plt.rcParams['figure.figsize'] = [6, 4]\n",
    "plt.hist(R4[0], bins = 200, density = True)\n",
    "plt.title(\"$F = 85, M = 2$\", fontsize = 10)\n",
    "plt.xlabel(\"Investment Performance\", fontsize = 10)\n",
    "plt.ylabel(\"Probability Density\", fontsize = 10)\n",
    "plt.show()\n",
    "plt.rcParams['figure.figsize'] = [6, 4]\n",
    "plt.hist(R5[0], bins = 200, density = True)\n",
    "plt.title(\"$F = 85, M = 4$\", fontsize = 10)\n",
    "plt.xlabel(\"Investment Performance\", fontsize = 10)\n",
    "plt.ylabel(\"Probability Density\", fontsize = 10)\n",
    "plt.show()"
   ]
  },
  {
   "cell_type": "markdown",
   "metadata": {
    "id": "6m310vjqHR1q"
   },
   "source": [
    "Observation:\n",
    "\n",
    "> When $F=0$, the probability density functions are approximately normally distributed. When $F=85$, the probability density functions are right-skewed.\n",
    "\n",
    "> Given a fixed $F$, when $M$ gets larger, the probability density function gets more spread out according to the plots, and the absolute values of standard deviation, $95\\%$ $VAR$, and $95\\%$ $cVAR$ get larger according to the table. To conclude, as $M$ gets larger, the variation of the investment performance (i.e., log return) gets larger."
   ]
  }
 ],
 "metadata": {
  "colab": {
   "provenance": []
  },
  "kernelspec": {
   "display_name": "Python 3 (ipykernel)",
   "language": "python",
   "name": "python3"
  },
  "language_info": {
   "codemirror_mode": {
    "name": "ipython",
    "version": 3
   },
   "file_extension": ".py",
   "mimetype": "text/x-python",
   "name": "python",
   "nbconvert_exporter": "python",
   "pygments_lexer": "ipython3",
   "version": "3.9.7"
  }
 },
 "nbformat": 4,
 "nbformat_minor": 1
}
