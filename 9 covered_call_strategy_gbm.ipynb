{
 "cells": [
  {
   "cell_type": "markdown",
   "metadata": {
    "id": "Dk6jYTH3O0zn"
   },
   "source": [
    "# Covered Call Strategy Using GBM"
   ]
  },
  {
   "cell_type": "markdown",
   "metadata": {
    "id": "gAT1LMewO2aX"
   },
   "source": [
    "Import the packages, functions, and parameters we need for this question."
   ]
  },
  {
   "cell_type": "code",
   "execution_count": 1,
   "metadata": {
    "colab": {
     "base_uri": "https://localhost:8080/"
    },
    "id": "ACOCJOJrOjkb",
    "outputId": "d04a612a-0264-4003-be2d-755f702bce8d"
   },
   "outputs": [
    {
     "name": "stdout",
     "output_type": "stream",
     "text": [
      "Collecting tabulate\n",
      "  Using cached tabulate-0.9.0-py3-none-any.whl (35 kB)\n",
      "Installing collected packages: tabulate\n",
      "Successfully installed tabulate-0.9.0\n",
      "Note: you may need to restart the kernel to use updated packages.\n"
     ]
    }
   ],
   "source": [
    "import math\n",
    "import numpy as np\n",
    "import matplotlib.pyplot as plt\n",
    "from scipy.stats import norm\n",
    "%pip install tabulate\n",
    "from tabulate import tabulate"
   ]
  },
  {
   "cell_type": "code",
   "execution_count": 2,
   "metadata": {
    "id": "Y36onwpuPACO"
   },
   "outputs": [],
   "source": [
    "# Adapted from Octave's financial toolkit\n",
    "from scipy.stats import norm\n",
    "import numpy as np\n",
    "    \n",
    "def blsprice(Price, Strike, Rate, Time, Volatility):\n",
    "    sigma_sqrtT = Volatility * np.sqrt (Time)\n",
    "\n",
    "    d1 = 1 / sigma_sqrtT * (np.log(Price / Strike) + (Rate + Volatility**2 / 2) * Time)\n",
    "    d2 = d1 - sigma_sqrtT\n",
    "\n",
    "    phi1 = norm.cdf(d1)\n",
    "    phi2 = norm.cdf(d2)\n",
    "    disc = np.exp (-Rate * Time)\n",
    "    F    = Price * np.exp ((Rate) * Time)\n",
    "\n",
    "    Call = disc * (F * phi1 - Strike * phi2)\n",
    "    Put  = disc * (Strike * (1 - phi2) + F * (phi1 - 1))\n",
    "    return Call, Put"
   ]
  },
  {
   "cell_type": "code",
   "execution_count": 3,
   "metadata": {
    "id": "proNyxFgPFQ-"
   },
   "outputs": [],
   "source": [
    "sigma = 0.35    # Volatility\n",
    "r = 0.07        # Risk-free rate\n",
    "T = 1.5         # Time to expiry\n",
    "S0 = 100        # Initial asset price\n",
    "S_init = 100    # Initial investment\n",
    "mu = 0.09       # Real world drift\n",
    "N_sim = 80000   # Number of simulations"
   ]
  },
  {
   "cell_type": "markdown",
   "metadata": {
    "id": "zG1kzkzCP8bu"
   },
   "source": [
    "Write the covered call strategy function under the assumption of GBM."
   ]
  },
  {
   "cell_type": "code",
   "execution_count": 4,
   "metadata": {
    "id": "2saUQzA4Q5WQ"
   },
   "outputs": [],
   "source": [
    "def Covered_Call(K):\n",
    "    # K is the strike price\n",
    "\n",
    "    S = S_init*np.ones(N_sim)\n",
    "    phi = np.random.normal(0, 1, N_sim)\n",
    "    # Stock price at time T\n",
    "    ST = S*np.exp((mu - (sigma**2/2))*T + sigma*phi*math.sqrt(T))\n",
    "\n",
    "    # Payoff for the call option\n",
    "    Payoff = np.maximum(ST - K, 0)\n",
    "\n",
    "    # Call option price at time 0\n",
    "    C = blsprice(S0, K, r, T, sigma)[0]\n",
    "    # Call option price at time T (value in the risk-free account)\n",
    "    B = C*np.exp(r*T)\n",
    "\n",
    "    # Final value at time T\n",
    "    V = ST + B - Payoff\n",
    "    \n",
    "    # Investment performance (log return)\n",
    "    R = np.log(V/S_init)\n",
    "    R_mean = np.mean(R)\n",
    "    R_std = np.std(R)\n",
    "    R_VAR = np.quantile(R, 0.05)\n",
    "    R_cVAR = R[R<=R_VAR].mean()\n",
    "\n",
    "    return R, R_mean, R_std, R_VAR, R_cVAR"
   ]
  },
  {
   "cell_type": "markdown",
   "metadata": {
    "id": "6mOafmhCYMTA"
   },
   "source": [
    "Generate a table showing mean, standard deviation, $95\\%$ $VAR$, and $95\\%$ $cVAR$ corresponding to each of the three strike values $K$ of the call."
   ]
  },
  {
   "cell_type": "code",
   "execution_count": 5,
   "metadata": {
    "colab": {
     "base_uri": "https://localhost:8080/"
    },
    "id": "YpaEbTpbYaxn",
    "outputId": "f3bd115c-a507-4699-d5b5-6cca5959dd40"
   },
   "outputs": [
    {
     "name": "stdout",
     "output_type": "stream",
     "text": [
      "+----------------+-----------+----------------------+-----------+------------+\n",
      "|   Strike Price |      Mean |   Standard Deviation |   95% VAR |   95% cVAR |\n",
      "+================+===========+======================+===========+============+\n",
      "|            101 | 0.100261  |             0.177812 | -0.28631  |  -0.401497 |\n",
      "+----------------+-----------+----------------------+-----------+------------+\n",
      "|            115 | 0.0939309 |             0.230095 | -0.375178 |  -0.503287 |\n",
      "+----------------+-----------+----------------------+-----------+------------+\n",
      "|            130 | 0.0876373 |             0.276532 | -0.444778 |  -0.585174 |\n",
      "+----------------+-----------+----------------------+-----------+------------+\n"
     ]
    }
   ],
   "source": [
    "# Strike prices\n",
    "K1 = 101\n",
    "K2 = 115\n",
    "K3 = 130\n",
    "\n",
    "# Investment Performances\n",
    "R1 = Covered_Call(K1)\n",
    "R2 = Covered_Call(K2)\n",
    "R3 = Covered_Call(K3)\n",
    "\n",
    "# Data for the table\n",
    "K = [K1, K2, K3]\n",
    "mean = [R1[1], R2[1], R3[1]]\n",
    "std = [R1[2], R2[2], R3[2]]\n",
    "VAR = [R1[3], R2[3], R3[3]]\n",
    "cVAR = [R1[4], R2[4], R3[4]]\n",
    "\n",
    "# Table for F, M, mean, std, VAR, and cVAR\n",
    "table = {\"Strike Price\": K,\n",
    "         \"Mean\": mean,\n",
    "         \"Standard Deviation\": std,\n",
    "         \"95% VAR\": VAR,\n",
    "         \"95% cVAR\": cVAR}\n",
    "print(tabulate(table, headers=\"keys\", tablefmt=\"grid\"))"
   ]
  },
  {
   "cell_type": "markdown",
   "metadata": {
    "id": "e5pwyWEUa_KY"
   },
   "source": [
    "Generate a plot of the (approximate) probability density function of the log return for the largest strike price."
   ]
  },
  {
   "cell_type": "code",
   "execution_count": 6,
   "metadata": {
    "colab": {
     "base_uri": "https://localhost:8080/",
     "height": 472
    },
    "id": "MU7HH15ybHtQ",
    "outputId": "6bc57630-b725-4d67-dc09-c9a72cbe3ddb"
   },
   "outputs": [
    {
     "data": {
      "image/png": "[encoded data removed]",
      "text/plain": [
       "<Figure size 648x432 with 1 Axes>"
      ]
     },
     "metadata": {
      "needs_background": "light"
     },
     "output_type": "display_data"
    }
   ],
   "source": [
    "# Plot of probability function\n",
    "plt.rcParams['figure.figsize'] = [9, 6]\n",
    "plt.hist(R3[0], bins = 80, density = True)\n",
    "plt.title(\"Probability Density Function, K = 130\", fontsize = 12)\n",
    "plt.xlabel(\"Investment Performance\", fontsize = 12)\n",
    "plt.ylabel(\"Probability Density\", fontsize = 12)\n",
    "plt.show()"
   ]
  },
  {
   "cell_type": "markdown",
   "metadata": {
    "id": "dxLRKVQ2bkQ8"
   },
   "source": [
    "Observation:\n",
    "\n",
    "> According to the table, as $K$ increases, the mean of the log return decreases, the standard devation of the log return increases, the $95\\%$ $VAR$ of the log return decreases, and the $95\\%$ $cVAR$ of the log return decreases.\n",
    "\n",
    "> According to the plot, the probability density function for $K=130$ is heavily left-skewed.\n",
    "\n"
   ]
  }
 ],
 "metadata": {
  "colab": {
   "provenance": []
  },
  "kernelspec": {
   "display_name": "Python 3 (ipykernel)",
   "language": "python",
   "name": "python3"
  },
  "language_info": {
   "codemirror_mode": {
    "name": "ipython",
    "version": 3
   },
   "file_extension": ".py",
   "mimetype": "text/x-python",
   "name": "python",
   "nbconvert_exporter": "python",
   "pygments_lexer": "ipython3",
   "version": "3.9.7"
  }
 },
 "nbformat": 4,
 "nbformat_minor": 1
}
