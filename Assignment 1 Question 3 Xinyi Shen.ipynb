{
 "cells": [
  {
   "cell_type": "markdown",
   "metadata": {
    "id": "u_BGCbiJIVcs"
   },
   "source": [
    "# Question 3"
   ]
  },
  {
   "cell_type": "code",
   "execution_count": null,
   "metadata": {
    "id": "cSPcuSDjIYOl"
   },
   "outputs": [],
   "source": [
    "import numpy as np\n",
    "import math\n",
    "import matplotlib.pyplot as plt"
   ]
  },
  {
   "cell_type": "markdown",
   "metadata": {
    "id": "s_0mMOdtO5Dz"
   },
   "source": [
    "First, we generate the vectorized code to evaluate $I(T,\\Delta t) = \\sum_{i=0}^{N-1} (\\Delta Z_i)^2$."
   ]
  },
  {
   "cell_type": "code",
   "execution_count": null,
   "metadata": {
    "id": "BeAyiHDpLrms"
   },
   "outputs": [],
   "source": [
    "def Ito_sum(N_path, T, N):\n",
    "    # N_path: number of paths\n",
    "    # T: expiry time\n",
    "    # N: number of timesteps\n",
    "\n",
    "    # Brownian motion and Ito calculus factors\n",
    "    delt = T/N\n",
    "    delZ = np.zeros(N_path)\n",
    "    Ito_sum = np.zeros(N_path)\n",
    "    for i in np.arange(N):\n",
    "        phi = np.random.normal(0, 1, N_path)\n",
    "        delZ = phi*math.sqrt(delt)\n",
    "        Ito_sum = Ito_sum + delZ ** 2\n",
    "    return Ito_sum"
   ]
  },
  {
   "cell_type": "markdown",
   "metadata": {
    "id": "yYynIfbmUvJM"
   },
   "source": [
    "Next, using $70,000$ paths, we compute and print out the mean and variance of the result, for $N = 100, 200, 400, 800, 1600, 3200, 6400$ timesteps."
   ]
  },
  {
   "cell_type": "code",
   "execution_count": null,
   "metadata": {
    "colab": {
     "base_uri": "https://localhost:8080/"
    },
    "id": "8H0VoDAhVCbl",
    "outputId": "530d197b-7ad1-4acf-a101-0d55bdb23703"
   },
   "outputs": [
    {
     "name": "stdout",
     "output_type": "stream",
     "text": [
      "Number of timesteps: 100\n",
      "Mean of the result: 1.9997460426372726\n",
      "Variance of the result: 0.07915731105127095\n",
      "\n",
      "\n",
      "Number of timesteps: 200\n",
      "Mean of the result: 1.999765898868605\n",
      "Variance of the result: 0.040154364300466615\n",
      "\n",
      "\n",
      "Number of timesteps: 400\n",
      "Mean of the result: 2.000465924076941\n",
      "Variance of the result: 0.01993881357260295\n",
      "\n",
      "\n",
      "Number of timesteps: 800\n",
      "Mean of the result: 2.0003099099146016\n",
      "Variance of the result: 0.010048432331148272\n",
      "\n",
      "\n",
      "Number of timesteps: 1600\n",
      "Mean of the result: 2.000363809563661\n",
      "Variance of the result: 0.0049897597689163705\n",
      "\n",
      "\n",
      "Number of timesteps: 3200\n",
      "Mean of the result: 1.9998409712980405\n",
      "Variance of the result: 0.0025185163942686886\n",
      "\n",
      "\n",
      "Number of timesteps: 6400\n",
      "Mean of the result: 2.000087190558257\n",
      "Variance of the result: 0.0012487195175124905\n",
      "\n",
      "\n"
     ]
    }
   ],
   "source": [
    "N_path = 70000\n",
    "T = 2\n",
    "\n",
    "# N = 100 timesteps\n",
    "N1 = 100\n",
    "print(\"Number of timesteps:\", N1)\n",
    "Ito_sum1 = Ito_sum(N_path, T, N1)\n",
    "mean1 = np.mean(Ito_sum1)\n",
    "variance1 = np.var(Ito_sum1)\n",
    "print(\"Mean of the result:\", mean1)\n",
    "print(\"Variance of the result:\", variance1)\n",
    "print(\"\\n\")\n",
    "\n",
    "# N = 200 timesteps\n",
    "N2 = 200\n",
    "print(\"Number of timesteps:\", N2)\n",
    "Ito_sum2 = Ito_sum(N_path, T, N2)\n",
    "mean2 = np.mean(Ito_sum2)\n",
    "variance2 = np.var(Ito_sum2)\n",
    "print(\"Mean of the result:\", mean2)\n",
    "print(\"Variance of the result:\", variance2)\n",
    "print(\"\\n\")\n",
    "\n",
    "# N = 400 timesteps\n",
    "N3 = 400\n",
    "print(\"Number of timesteps:\", N3)\n",
    "Ito_sum3 = Ito_sum(N_path, T, N3)\n",
    "mean3 = np.mean(Ito_sum3)\n",
    "variance3 = np.var(Ito_sum3)\n",
    "print(\"Mean of the result:\", mean3)\n",
    "print(\"Variance of the result:\", variance3)\n",
    "print(\"\\n\")\n",
    "\n",
    "# N = 800 timesteps\n",
    "N4 = 800\n",
    "print(\"Number of timesteps:\", N4)\n",
    "Ito_sum4 = Ito_sum(N_path, T, N4)\n",
    "mean4 = np.mean(Ito_sum4)\n",
    "variance4 = np.var(Ito_sum4)\n",
    "print(\"Mean of the result:\", mean4)\n",
    "print(\"Variance of the result:\", variance4)\n",
    "print(\"\\n\")\n",
    "\n",
    "# N = 1600 timesteps\n",
    "N5 = 1600\n",
    "print(\"Number of timesteps:\", N5)\n",
    "Ito_sum5 = Ito_sum(N_path, T, N5)\n",
    "mean5 = np.mean(Ito_sum5)\n",
    "variance5 = np.var(Ito_sum5)\n",
    "print(\"Mean of the result:\", mean5)\n",
    "print(\"Variance of the result:\", variance5)\n",
    "print(\"\\n\")\n",
    "\n",
    "# N = 3200 timesteps\n",
    "N6 = 3200\n",
    "print(\"Number of timesteps:\", N6)\n",
    "Ito_sum6 = Ito_sum(N_path, T, N6)\n",
    "mean6 = np.mean(Ito_sum6)\n",
    "variance6 = np.var(Ito_sum6)\n",
    "print(\"Mean of the result:\", mean6)\n",
    "print(\"Variance of the result:\", variance6)\n",
    "print(\"\\n\")\n",
    "\n",
    "# N = 6400 timesteps\n",
    "N7 = 6400\n",
    "print(\"Number of timesteps:\", N7)\n",
    "Ito_sum7 = Ito_sum(N_path, T, N7)\n",
    "mean7 = np.mean(Ito_sum7)\n",
    "variance7 = np.var(Ito_sum7)\n",
    "print(\"Mean of the result:\", mean7)\n",
    "print(\"Variance of the result:\", variance7)\n",
    "print(\"\\n\")"
   ]
  },
  {
   "cell_type": "markdown",
   "metadata": {
    "id": "yKgi97HTYlBw"
   },
   "source": [
    "Now we can plot a graph of $var(I(T,\\Delta t))$ versus $\\Delta t$."
   ]
  },
  {
   "cell_type": "code",
   "execution_count": null,
   "metadata": {
    "colab": {
     "base_uri": "https://localhost:8080/",
     "height": 300
    },
    "id": "Q9urO1CDZNY2",
    "outputId": "4e2f1b64-c184-44b9-e066-243b01dd26d8"
   },
   "outputs": [
    {
     "data": {
      "image/png": "[encoded data removed]",
      "text/plain": [
       "<Figure size 432x288 with 1 Axes>"
      ]
     },
     "metadata": {
      "needs_background": "light"
     },
     "output_type": "display_data"
    }
   ],
   "source": [
    "x_delt = [T/N1, T/N2, T/N3, T/N4, T/N5, T/N6, T/N7]\n",
    "y_var_Ito_sum = [variance1, variance2, variance3, variance4, variance5, variance6, variance7]\n",
    "plt.plot(x_delt, y_var_Ito_sum)\n",
    "plt.xlabel(\"$\\Delta t$\", fontsize=12)\n",
    "plt.ylabel(\"$var(I(T,\\Delta t))$\", fontsize=12)\n",
    "plt.title(\"$var(I(T,\\Delta t))$ versus $\\Delta t$\", fontsize=12)\n",
    "plt.show()"
   ]
  },
  {
   "cell_type": "markdown",
   "metadata": {
    "id": "JaUCYT-7cBxa"
   },
   "source": [
    "Observation:\n",
    "\n",
    "> As the number of timesteps increases (i.e., $N \\rightarrow \\infty$ and $\\Delta t \\rightarrow 0$), the mean of $I(T,\\Delta t)$ converges to the expiry time $T=2$, and the variance of $I(T,\\Delta t)$ converges to $0$.\n",
    "\n",
    "> There is a linear relationship between $var(I(T,\\Delta t))$ and $\\Delta t$. "
   ]
  }
 ],
 "metadata": {
  "colab": {
   "provenance": []
  },
  "kernelspec": {
   "display_name": "Python 3 (ipykernel)",
   "language": "python",
   "name": "python3"
  },
  "language_info": {
   "codemirror_mode": {
    "name": "ipython",
    "version": 3
   },
   "file_extension": ".py",
   "mimetype": "text/x-python",
   "name": "python",
   "nbconvert_exporter": "python",
   "pygments_lexer": "ipython3",
   "version": "3.9.13"
  }
 },
 "nbformat": 4,
 "nbformat_minor": 1
}
